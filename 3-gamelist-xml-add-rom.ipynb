{
 "cells": [
  {
   "cell_type": "markdown",
   "metadata": {},
   "source": [
    "# 롬 파일 리스트 관리 프로그램 V 0.1"
   ]
  },
  {
   "cell_type": "markdown",
   "metadata": {},
   "source": [
    "## Setup"
   ]
  },
  {
   "cell_type": "code",
   "execution_count": 11,
   "metadata": {},
   "outputs": [
    {
     "name": "stdout",
     "output_type": "stream",
     "text": [
      "Current DIr:  c:\\games\\Retropie\\gba\n"
     ]
    }
   ],
   "source": [
    "dname='gba'\n",
    "exts=['.gba', '.zip']\n",
    "xmlfile = 'gamelist.xml'\n",
    "import os\n",
    "cwd = os.getcwd()\n",
    "basedir = os.path.basename(cwd)\n",
    "if basedir != dname:\n",
    "    os.chdir(dname)\n",
    "print(\"Current DIr: \", cwd)"
   ]
  },
  {
   "cell_type": "markdown",
   "metadata": {},
   "source": [
    "## read file data"
   ]
  },
  {
   "cell_type": "code",
   "execution_count": 13,
   "metadata": {},
   "outputs": [],
   "source": [
    "roms = [f for f in os.listdir() if os.path.splitext(f)[1] in exts]\n",
    "romdict = {}\n",
    "for rom in roms:\n",
    "    romdict[rom] = 0"
   ]
  },
  {
   "cell_type": "markdown",
   "metadata": {},
   "source": [
    "## open xml "
   ]
  },
  {
   "cell_type": "code",
   "execution_count": 2,
   "metadata": {},
   "outputs": [],
   "source": [
    "import xml.etree.ElementTree as ET\n",
    "tree = ET.parse(xmlfile)\n",
    "root = tree.getroot()"
   ]
  },
  {
   "cell_type": "code",
   "execution_count": 3,
   "metadata": {},
   "outputs": [
    {
     "data": {
      "text/plain": [
       "'gameList'"
      ]
     },
     "execution_count": 3,
     "metadata": {},
     "output_type": "execute_result"
    }
   ],
   "source": [
    "root.tag"
   ]
  },
  {
   "cell_type": "code",
   "execution_count": 4,
   "metadata": {},
   "outputs": [
    {
     "data": {
      "text/plain": [
       "{}"
      ]
     },
     "execution_count": 4,
     "metadata": {},
     "output_type": "execute_result"
    }
   ],
   "source": [
    "root.attrib"
   ]
  },
  {
   "cell_type": "code",
   "execution_count": 5,
   "metadata": {},
   "outputs": [
    {
     "data": {
      "text/plain": [
       "77"
      ]
     },
     "execution_count": 5,
     "metadata": {},
     "output_type": "execute_result"
    }
   ],
   "source": [
    "len(root)"
   ]
  },
  {
   "cell_type": "code",
   "execution_count": 6,
   "metadata": {},
   "outputs": [
    {
     "name": "stdout",
     "output_type": "stream",
     "text": [
      "path ./Advance Wars (USA) (Rev 1).zip\n",
      "name 어드밴스 워즈 (개정판 1)\n",
      "image ./snap//Advance Wars (USA) (Rev 1).png\n",
      "video ./snap//Advance Wars (USA) (Rev 1).mp4\n",
      "marquee ./marquee/Advance Wars (USA) (Rev 1).png\n"
     ]
    }
   ],
   "source": [
    "for attr in root[0]:\n",
    "    print(attr.tag, attr.text)"
   ]
  },
  {
   "cell_type": "code",
   "execution_count": 21,
   "metadata": {},
   "outputs": [
    {
     "name": "stdout",
     "output_type": "stream",
     "text": [
      "No game data found: Dragon Ball Z - Super Gokuu Den Totsugeki Hen (K).zip\n"
     ]
    }
   ],
   "source": [
    "for game in root:\n",
    "    name = game.find('name')\n",
    "    path = game.find('path')\n",
    "    if path.text[2:] not in romdict:\n",
    "        print(\"No game data found:\", path.text[2:])   \n",
    "    else:\n",
    "       # print(\"Found in xml:\", path.text[2:]) \n",
    "        romdict[path.text[2:]] = 1\n"
   ]
  },
  {
   "cell_type": "code",
   "execution_count": 31,
   "metadata": {},
   "outputs": [
    {
     "data": {
      "text/plain": [
       "82"
      ]
     },
     "execution_count": 31,
     "metadata": {},
     "output_type": "execute_result"
    }
   ],
   "source": [
    "len(root)"
   ]
  },
  {
   "cell_type": "code",
   "execution_count": 30,
   "metadata": {},
   "outputs": [
    {
     "name": "stdout",
     "output_type": "stream",
     "text": [
      "81 0\n"
     ]
    }
   ],
   "source": [
    "find = 0\n",
    "miss = 0\n",
    "for k,v in romdict.items():\n",
    "    if v == 0:\n",
    "        mss += 1\n",
    "        print(k)\n",
    "    else:\n",
    "        find += 1\n",
    "print(find, miss)"
   ]
  },
  {
   "cell_type": "code",
   "execution_count": 13,
   "metadata": {},
   "outputs": [],
   "source": [
    "tree.write('newlist.xml', 'UTF-8')"
   ]
  },
  {
   "cell_type": "code",
   "execution_count": 106,
   "metadata": {},
   "outputs": [
    {
     "data": {
      "text/plain": [
       "22"
      ]
     },
     "execution_count": 106,
     "metadata": {},
     "output_type": "execute_result"
    }
   ],
   "source": [
    "c1"
   ]
  },
  {
   "cell_type": "code",
   "execution_count": 107,
   "metadata": {},
   "outputs": [
    {
     "data": {
      "text/plain": [
       "77"
      ]
     },
     "execution_count": 107,
     "metadata": {},
     "output_type": "execute_result"
    }
   ],
   "source": [
    "c2"
   ]
  },
  {
   "cell_type": "code",
   "execution_count": null,
   "metadata": {},
   "outputs": [],
   "source": []
  }
 ],
 "metadata": {
  "kernelspec": {
   "display_name": "Python 3",
   "language": "python",
   "name": "python3"
  },
  "language_info": {
   "codemirror_mode": {
    "name": "ipython",
    "version": 3
   },
   "file_extension": ".py",
   "mimetype": "text/x-python",
   "name": "python",
   "nbconvert_exporter": "python",
   "pygments_lexer": "ipython3",
   "version": "3.7.3"
  }
 },
 "nbformat": 4,
 "nbformat_minor": 2
}
