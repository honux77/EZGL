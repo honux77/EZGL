{
 "cells": [
  {
   "cell_type": "markdown",
   "metadata": {},
   "source": [
    "# 롬 파일 리스트 관리 프로그램 V 0.1"
   ]
  },
  {
   "cell_type": "markdown",
   "metadata": {},
   "source": [
    "## Setup"
   ]
  },
  {
   "cell_type": "code",
   "execution_count": 36,
   "metadata": {},
   "outputs": [],
   "source": [
    "dname='snes'\n",
    "exts=[\n",
    "    '.smc',\n",
    "    '.sfc',\n",
    "    '.zip',\n",
    "     ]"
   ]
  },
  {
   "cell_type": "markdown",
   "metadata": {},
   "source": [
    "## Get Rom List "
   ]
  },
  {
   "cell_type": "code",
   "execution_count": 37,
   "metadata": {},
   "outputs": [],
   "source": [
    "import os"
   ]
  },
  {
   "cell_type": "code",
   "execution_count": 38,
   "metadata": {},
   "outputs": [
    {
     "name": "stdout",
     "output_type": "stream",
     "text": [
      "c:\\games\\Retropie\\snes\n"
     ]
    }
   ],
   "source": [
    "cwd = os.getcwd()\n",
    "if dname not in cwd:\n",
    "    os.chdir(dname)\n",
    "print(cwd)"
   ]
  },
  {
   "cell_type": "code",
   "execution_count": 39,
   "metadata": {},
   "outputs": [],
   "source": [
    "allfiles = os.listdir()"
   ]
  },
  {
   "cell_type": "code",
   "execution_count": 40,
   "metadata": {},
   "outputs": [],
   "source": [
    "roms = [f for f in allfiles if os.path.splitext(f)[1] in exts]"
   ]
  },
  {
   "cell_type": "code",
   "execution_count": 41,
   "metadata": {},
   "outputs": [
    {
     "data": {
      "text/plain": [
       "48"
      ]
     },
     "execution_count": 41,
     "metadata": {},
     "output_type": "execute_result"
    }
   ],
   "source": [
    "len(roms)"
   ]
  },
  {
   "cell_type": "code",
   "execution_count": 42,
   "metadata": {},
   "outputs": [
    {
     "data": {
      "text/plain": [
       "['Assault Suits Valken (K).zip',\n",
       " 'Captain Tsubasa III (E).zip',\n",
       " 'Chrono_Trigger_(K).zip',\n",
       " 'Der Langrisser (J) (V1.1).zip',\n",
       " 'Donkey Kong Country (U) (V1.2) [!].zip',\n",
       " 'Dragon Ball Z - Super Gokuu Den Kakusei Hen (K).zip',\n",
       " 'Dragon Ball Z - Super Gokuu Den Totsugeki Hen (K).zip',\n",
       " 'Dragon Quest 6 (E).zip',\n",
       " 'Dragon_ball_Z_rpg_(U).zip',\n",
       " 'F-ZERO (U) [!].zip']"
      ]
     },
     "execution_count": 42,
     "metadata": {},
     "output_type": "execute_result"
    }
   ],
   "source": [
    "roms[:10]"
   ]
  },
  {
   "cell_type": "markdown",
   "metadata": {},
   "source": [
    "## Zip 압축하기"
   ]
  },
  {
   "cell_type": "code",
   "execution_count": 43,
   "metadata": {},
   "outputs": [],
   "source": [
    "roms = [f for f in allfiles if os.path.splitext(f)[1] in exts[:-1]]"
   ]
  },
  {
   "cell_type": "code",
   "execution_count": 44,
   "metadata": {},
   "outputs": [
    {
     "data": {
      "text/plain": [
       "['Metal Max 2 (J).sfc']"
      ]
     },
     "execution_count": 44,
     "metadata": {},
     "output_type": "execute_result"
    }
   ],
   "source": [
    "roms[:10]"
   ]
  },
  {
   "cell_type": "code",
   "execution_count": 45,
   "metadata": {},
   "outputs": [],
   "source": [
    "import zipfile"
   ]
  },
  {
   "cell_type": "code",
   "execution_count": 47,
   "metadata": {},
   "outputs": [
    {
     "name": "stdout",
     "output_type": "stream",
     "text": [
      "zip Metal Max 2 (J).sfc\n"
     ]
    }
   ],
   "source": [
    "for file in roms:\n",
    "    print(\"zip \" + file)\n",
    "    fname, ext = os.path.splitext(file)\n",
    "    with zipfile.ZipFile(fname + '.zip','w') as zf:\n",
    "        zf.write(file)\n",
    "    os.remove(file)"
   ]
  },
  {
   "cell_type": "code",
   "execution_count": null,
   "metadata": {},
   "outputs": [],
   "source": []
  }
 ],
 "metadata": {
  "kernelspec": {
   "display_name": "Python 3",
   "language": "python",
   "name": "python3"
  },
  "language_info": {
   "codemirror_mode": {
    "name": "ipython",
    "version": 3
   },
   "file_extension": ".py",
   "mimetype": "text/x-python",
   "name": "python",
   "nbconvert_exporter": "python",
   "pygments_lexer": "ipython3",
   "version": "3.7.3"
  }
 },
 "nbformat": 4,
 "nbformat_minor": 2
}
