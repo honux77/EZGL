{
 "cells": [
  {
   "cell_type": "markdown",
   "metadata": {},
   "source": [
    "# 롬 파일 리스트 관리 프로그램 V 0.1"
   ]
  },
  {
   "cell_type": "markdown",
   "metadata": {},
   "source": [
    "## Setup"
   ]
  },
  {
   "cell_type": "code",
   "execution_count": 1,
   "metadata": {},
   "outputs": [],
   "source": [
    "dname='psx'\n",
    "exts=['.zip', '.chd']\n",
    "xmlfile = 'gamelist.xml'\n",
    "rdir = '/home/pi/roms/' + dname\n",
    "root = 'E:\\\\Retropie\\\\'"
   ]
  },
  {
   "cell_type": "code",
   "execution_count": 2,
   "metadata": {},
   "outputs": [
    {
     "name": "stdout",
     "output_type": "stream",
     "text": [
      "Current DIr:  E:\\Retropie\\psx\n"
     ]
    }
   ],
   "source": [
    "import os\n",
    "os.chdir(os.path.join(root,dname))\n",
    "print(\"Current DIr: \", os.getcwd())"
   ]
  },
  {
   "cell_type": "markdown",
   "metadata": {},
   "source": [
    "## open xml "
   ]
  },
  {
   "cell_type": "code",
   "execution_count": 3,
   "metadata": {},
   "outputs": [],
   "source": [
    "import xml.etree.ElementTree as ET\n",
    "tree = ET.parse(xmlfile)\n",
    "root = tree.getroot()"
   ]
  },
  {
   "cell_type": "code",
   "execution_count": 4,
   "metadata": {},
   "outputs": [
    {
     "data": {
      "text/plain": [
       "12"
      ]
     },
     "execution_count": 4,
     "metadata": {},
     "output_type": "execute_result"
    }
   ],
   "source": [
    "len(root)"
   ]
  },
  {
   "cell_type": "code",
   "execution_count": 5,
   "metadata": {},
   "outputs": [
    {
     "name": "stdout",
     "output_type": "stream",
     "text": [
      "path ./Langrisser I & II (Japan).chd\n",
      "name 랑그릿사 I & II (일판)\n",
      "rating 1\n",
      "image ./snap/Langrisser I & II (Japan).png\n",
      "releasedate 19700101T090000\n",
      "playcount 1\n",
      "lastplayed 20190818T223725\n"
     ]
    }
   ],
   "source": [
    "for attr in root[0]:\n",
    "    print(attr.tag, attr.text)"
   ]
  },
  {
   "cell_type": "code",
   "execution_count": 6,
   "metadata": {},
   "outputs": [],
   "source": [
    "import re"
   ]
  },
  {
   "cell_type": "code",
   "execution_count": 7,
   "metadata": {},
   "outputs": [],
   "source": [
    "hangul = re.compile('[ㄱ-ㅣ가-힣]+')"
   ]
  },
  {
   "cell_type": "code",
   "execution_count": 8,
   "metadata": {},
   "outputs": [
    {
     "data": {
      "text/plain": [
       "['가나다']"
      ]
     },
     "execution_count": 8,
     "metadata": {},
     "output_type": "execute_result"
    }
   ],
   "source": [
    "hangul.findall(\"가나다 sdsd\")"
   ]
  },
  {
   "cell_type": "code",
   "execution_count": 9,
   "metadata": {},
   "outputs": [
    {
     "name": "stdout",
     "output_type": "stream",
     "text": [
      "Lunar - Silver Star Story (Japan) ./Lunar - Silver Star Story (Japan).m3u\n",
      "루나 실버 스타 스토리: 컴플리트 (일판)\n"
     ]
    }
   ],
   "source": [
    "for game in root:\n",
    "    name = game.find('name')\n",
    "    path = game.find('path')\n",
    "    if len(hangul.findall(name.text)) == 0:\n",
    "        print(name.text, path.text)\n",
    "        tt = input()\n",
    "        if len(tt) > 0:\n",
    "            name.text = tt"
   ]
  },
  {
   "cell_type": "code",
   "execution_count": 10,
   "metadata": {},
   "outputs": [
    {
     "data": {
      "text/plain": [
       "12"
      ]
     },
     "execution_count": 10,
     "metadata": {},
     "output_type": "execute_result"
    }
   ],
   "source": [
    "len(root)"
   ]
  },
  {
   "cell_type": "code",
   "execution_count": 11,
   "metadata": {},
   "outputs": [
    {
     "name": "stdout",
     "output_type": "stream",
     "text": [
      "./snap/Lunar - Silver Star Story (Japan).png\n",
      "11 1\n"
     ]
    }
   ],
   "source": [
    "ok = 0\n",
    "miss = 0\n",
    "for game in root:\n",
    "    path = game.find('path')\n",
    "    image = game.find('image')\n",
    "    if image == None:\n",
    "        imageData = os.path.splitext(path.text)\n",
    "        image = ET.Element('image')\n",
    "        image.text = \"./snap/\" + imageData[0][2:] + \".png\"                      \n",
    "        print(image.text) \n",
    "        game.insert(3,image)\n",
    "        miss += 1\n",
    "    else:    \n",
    "        ok += 1\n",
    "        # print(path.text, image.text)\n",
    "print(ok, miss)"
   ]
  },
  {
   "cell_type": "code",
   "execution_count": 12,
   "metadata": {},
   "outputs": [],
   "source": [
    "tree.write(xmlfile, 'UTF-8')"
   ]
  },
  {
   "cell_type": "markdown",
   "metadata": {},
   "source": [
    "## upload"
   ]
  },
  {
   "cell_type": "code",
   "execution_count": 14,
   "metadata": {},
   "outputs": [
    {
     "name": "stderr",
     "output_type": "stream",
     "text": [
      "C:\\Users\\k5020\\Miniconda3\\envs\\py37\\lib\\site-packages\\paramiko\\ecdsakey.py:164: CryptographyDeprecationWarning: Support for unsafe construction of public numbers from encoded data will be removed in a future version. Please use EllipticCurvePublicKey.from_encoded_point\n",
      "  self.ecdsa_curve.curve_class(), pointinfo\n",
      "C:\\Users\\k5020\\Miniconda3\\envs\\py37\\lib\\site-packages\\paramiko\\kex_ecdh_nist.py:39: CryptographyDeprecationWarning: encode_point has been deprecated on EllipticCurvePublicNumbers and will be removed in a future version. Please use EllipticCurvePublicKey.public_bytes to obtain both compressed and uncompressed point encoding.\n",
      "  m.add_string(self.Q_C.public_numbers().encode_point())\n",
      "C:\\Users\\k5020\\Miniconda3\\envs\\py37\\lib\\site-packages\\paramiko\\kex_ecdh_nist.py:96: CryptographyDeprecationWarning: Support for unsafe construction of public numbers from encoded data will be removed in a future version. Please use EllipticCurvePublicKey.from_encoded_point\n",
      "  self.curve, Q_S_bytes\n",
      "C:\\Users\\k5020\\Miniconda3\\envs\\py37\\lib\\site-packages\\paramiko\\kex_ecdh_nist.py:111: CryptographyDeprecationWarning: encode_point has been deprecated on EllipticCurvePublicNumbers and will be removed in a future version. Please use EllipticCurvePublicKey.public_bytes to obtain both compressed and uncompressed point encoding.\n",
      "  hm.add_string(self.Q_C.public_numbers().encode_point())\n"
     ]
    }
   ],
   "source": [
    "from paramiko import SSHClient\n",
    "from scp import SCPClient\n",
    "\n",
    "ssh = SSHClient()\n",
    "ssh.load_system_host_keys()\n",
    "ssh.connect(username='pi',password='raspberry', hostname='retropie')\n",
    "scp = SCPClient(ssh.get_transport())\n",
    "scp.put(xmlfile, remote_path=rdir)"
   ]
  },
  {
   "cell_type": "code",
   "execution_count": null,
   "metadata": {},
   "outputs": [],
   "source": []
  },
  {
   "cell_type": "code",
   "execution_count": null,
   "metadata": {},
   "outputs": [],
   "source": []
  }
 ],
 "metadata": {
  "kernelspec": {
   "display_name": "Python 3",
   "language": "python",
   "name": "python3"
  },
  "language_info": {
   "codemirror_mode": {
    "name": "ipython",
    "version": 3
   },
   "file_extension": ".py",
   "mimetype": "text/x-python",
   "name": "python",
   "nbconvert_exporter": "python",
   "pygments_lexer": "ipython3",
   "version": "3.7.3"
  }
 },
 "nbformat": 4,
 "nbformat_minor": 2
}
